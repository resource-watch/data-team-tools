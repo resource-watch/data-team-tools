{
 "cells": [
  {
   "cell_type": "markdown",
   "metadata": {},
   "source": [
    "<h1>Welcome to the Resource Watch Duplicate Layers Tool!</h1>"
   ]
  },
  {
   "cell_type": "code",
   "execution_count": 23,
   "metadata": {},
   "outputs": [
    {
     "data": {
      "text/plain": [
       "True"
      ]
     },
     "execution_count": 23,
     "metadata": {},
     "output_type": "execute_result"
    }
   ],
   "source": [
    "#Import necessary layers\n",
    "#!pip install LMIPy\n",
    "import LMIPy as lmi\n",
    "import os\n",
    "import json\n",
    "import geopandas as gpd\n",
    "from IPython.display import display\n",
    "from pprint import pprint\n",
    "from datetime import datetime\n",
    "import numpy as np\n",
    "import json\n",
    "import dotenv\n",
    "dotenv.load_dotenv('/home/amsnyder/Github/cred/.env')"
   ]
  },
  {
   "cell_type": "markdown",
   "metadata": {},
   "source": [
    "<font color=red>**ACTION REQUIRED** <br>\n",
    "<font color=blue>**Enter your API Token Below**</font>"
   ]
  },
  {
   "cell_type": "code",
   "execution_count": 24,
   "metadata": {},
   "outputs": [],
   "source": [
    "#API token needed to make changes\n",
    "API_TOKEN = os.getenv('RW_API_KEY')"
   ]
  },
  {
   "cell_type": "markdown",
   "metadata": {},
   "source": [
    "<font color=red>**ACTION REQUIRED** <br>\n",
    "<font color=blue>**Enter your dataset ID below** <br>\n",
    "The dataset will be printed out below, then the first layer in the list of layers, followed by the number of layers in the dataset. We will duplicate the first layer.</font>"
   ]
  },
  {
   "cell_type": "code",
   "execution_count": 25,
   "metadata": {},
   "outputs": [
    {
     "name": "stdout",
     "output_type": "stream",
     "text": [
      "Dataset selected is below: \n"
     ]
    },
    {
     "data": {
      "text/html": [
       "<div class='item_container' style='height: auto; overflow: hidden; border: 1px solid #80ceb9;border-radius: 2px; background: #f2fffb; line-height: 1.21429em; padding: 10px;''><div class='item_left' style='width: 210px; float: left;''><a href='https://resourcewatch.org/' target='_blank'><img class='itemThumbnail' src='https://resourcewatch.org/static/images/logo-embed.png'></a></div><div class='item_right' style='float: none; width: auto; overflow: hidden;''><a href=https://api.resourcewatch.org/v1/dataset/4d2d47c1-fed1-4484-83e3-c91c3f6f7315?includes=vocabulary,metadata,layer,widget target='_blank'><b>cli.029a Vulnerability to Climate Change Index</b></a><br> Carto table: <a href=https://wri-rw.carto.com/tables/cli_029a_vulnerability_to_cc/public target='_blank'>cli_029a_vulnerability_to_cc</a> 🗺Dataset in RW.<br>Last Modified: 2019-10-09T21:47:49.510Z<br>Connector: cartodb | Published: True </div> </div>"
      ],
      "text/plain": [
       "<div class='item_container' style='height: auto; overflow: hidden; border: 1px solid #80ceb9;border-radius: 2px; background: #f2fffb; line-height: 1.21429em; padding: 10px;''><div class='item_left' style='width: 210px; float: left;''><a href='https://resourcewatch.org/' target='_blank'><img class='itemThumbnail' src='https://resourcewatch.org/static/images/logo-embed.png'></a></div><div class='item_right' style='float: none; width: auto; overflow: hidden;''><a href=https://api.resourcewatch.org/v1/dataset/4d2d47c1-fed1-4484-83e3-c91c3f6f7315?includes=vocabulary,metadata,layer,widget target='_blank'><b>cli.029a Vulnerability to Climate Change Index</b></a><br> Carto table: <a href=https://wri-rw.carto.com/tables/cli_029a_vulnerability_to_cc/public target='_blank'>cli_029a_vulnerability_to_cc</a> 🗺Dataset in RW.<br>Last Modified: 2019-10-09T21:47:49.510Z<br>Connector: cartodb | Published: True </div> </div>"
      ]
     },
     "execution_count": 0,
     "metadata": {},
     "output_type": "execute_result"
    },
    {
     "name": "stdout",
     "output_type": "stream",
     "text": [
      "First layer is below:\n"
     ]
    },
    {
     "data": {
      "text/html": [
       "<div class='item_container' style='height: auto; overflow: hidden; border: 1px solid #80ceb9;border-radius: 2px; background: #f2fffb; line-height: 1.21429em; padding: 10px;''><div class='item_left' style='width: 210px; float: left;''><a href='https://resourcewatch.org/' target='_blank'><img class='itemThumbnail' src='https://resourcewatch.org/static/images/logo-embed.png'></a></div><div class='item_right' style='float: none; width: auto; overflow: hidden;''><a href=https://api.resourcewatch.org/v1/layer/cec0119e-fc1e-4bac-bd5a-6265bee9d815?includes=vocabulary,metadata target='_blank'><b>2017 Vulnerability Score</b></a><br> Data source cartodb 🗺Layer in RW.<br>Last Modified: 2019-10-16T20:39:37.875Z<br>Connector: cartodb | Published: True </div> </div>"
      ],
      "text/plain": [
       "<div class='item_container' style='height: auto; overflow: hidden; border: 1px solid #80ceb9;border-radius: 2px; background: #f2fffb; line-height: 1.21429em; padding: 10px;''><div class='item_left' style='width: 210px; float: left;''><a href='https://resourcewatch.org/' target='_blank'><img class='itemThumbnail' src='https://resourcewatch.org/static/images/logo-embed.png'></a></div><div class='item_right' style='float: none; width: auto; overflow: hidden;''><a href=https://api.resourcewatch.org/v1/layer/cec0119e-fc1e-4bac-bd5a-6265bee9d815?includes=vocabulary,metadata target='_blank'><b>2017 Vulnerability Score</b></a><br> Data source cartodb 🗺Layer in RW.<br>Last Modified: 2019-10-16T20:39:37.875Z<br>Connector: cartodb | Published: True </div> </div>"
      ]
     },
     "execution_count": 0,
     "metadata": {},
     "output_type": "execute_result"
    },
    {
     "name": "stdout",
     "output_type": "stream",
     "text": [
      "Number of layers in dataset: 1\n"
     ]
    }
   ],
   "source": [
    "#Select Dataset and Layer to Clone, here we just chose the first layer\n",
    "dataset_id = '4d2d47c1-fed1-4484-83e3-c91c3f6f7315' #NEEDS TO BE THE LONG ONE LIKE 6cfd6255-609e-4922-8709-5aaad0db9fae\n",
    "dataset = lmi.Dataset(dataset_id) #select the dataset by changing the ID\n",
    "long_dataset_id = dataset.id\n",
    "\n",
    "print('Dataset selected is below: ')\n",
    "display(dataset)\n",
    "\n",
    "layer_to_clone = dataset.layers[0]   #Chose the first layer\n",
    "\n",
    "print('First layer is below:')\n",
    "display(layer_to_clone)\n",
    "\n",
    "print(\"Number of layers in dataset: {}\".format(len(dataset.layers)))\n"
   ]
  },
  {
   "cell_type": "markdown",
   "metadata": {},
   "source": [
    "__________________________________________________________________________________________________________________\n",
    "<font color=blue>**Now we will get the attributes that need to change**<br>\n",
    "This includes the layer name, description, SQL statement, timeline order, timeline label, and interaction <br>\n",
    "We'll first print them out so you can see</font>"
   ]
  },
  {
   "cell_type": "code",
   "execution_count": 26,
   "metadata": {},
   "outputs": [
    {
     "name": "stdout",
     "output_type": "stream",
     "text": [
      "Name: \n2017 Vulnerability Score \n\nDescription: \nA score that indicates propensity or predisposition of human societies to be negatively impacted by climate hazards. Values shown represent the year 2017. \n\nSQL Statement: \nSELECT wri.cartodb_id, ST_Transform(wri.the_geom, 3857) AS the_geom_webmercator, wri.name, data.country, data.year, data.gain, data.vulnerability, data.readiness FROM cli_029a_vulnerability_to_cc data LEFT OUTER JOIN wri_countries_a wri ON wri.name ILIKE TRIM(data.country) WHERE data.vulnerability IS NOT NULL AND wri.iso_a3 IS NOT NULL AND data.year = 2017 UNION SELECT wri.cartodb_id, ST_Transform(wri.the_geom, 3857) AS the_geom_webmercator, wri.name, data.country, data.year, data.gain, data.vulnerability, data.readiness FROM cli_029a_vulnerability_to_cc  data INNER JOIN rw_aliasing_countries aliasing ON TRIM(data.country) ILIKE aliasing.alias INNER JOIN wri_countries_a wri ON wri.iso_a3 = aliasing.iso WHERE data.vulnerability IS NOT NULL AND data.year = 2017 \n\nOrder Value: \n2017 \n\nTimeline Label: \n2017 \n\nInteraction Config: \n{'output': [{'column': 'country', 'format': None, 'prefix': '', 'property': 'Country', 'suffix': ''}, {'column': 'gain', 'format': None, 'prefix': '', 'property': 'GAIN Score', 'suffix': ''}, {'column': 'vulnerability', 'format': None, 'prefix': '', 'property': 'Vulnerability Score', 'suffix': ''}, {'column': 'readiness', 'format': None, 'prefix': '', 'property': 'Readiness Score', 'suffix': ''}, {'column': 'year', 'format': None, 'prefix': '', 'property': 'Year', 'suffix': ''}, {'column': 'cartodb_id', 'format': None, 'prefix': '', 'property': 'Area ID', 'suffix': ''}]} \n\n"
     ]
    }
   ],
   "source": [
    "#Gathering the right attributes that need to change\n",
    "name = layer_to_clone.attributes['name']\n",
    "description = layer_to_clone.attributes['description']\n",
    "appConfig = layer_to_clone.attributes['layerConfig']\n",
    "sql = appConfig['body']['layers'][0]['options']['sql']\n",
    "order = str(appConfig['order'])\n",
    "timeLineLabel = appConfig['timelineLabel']\n",
    "interactionConfig = layer_to_clone.attributes['interactionConfig']\n",
    "\n",
    "#Print them out\n",
    "print('Name: \\n{} \\n'.format(name))\n",
    "print('Description: \\n{} \\n'.format(description))\n",
    "print('SQL Statement: \\n{} \\n'.format(sql))\n",
    "print('Order Value: \\n{} \\n'.format(order))\n",
    "print('Timeline Label: \\n{} \\n'.format(timeLineLabel))\n",
    "print('Interaction Config: \\n{} \\n'.format(interactionConfig))"
   ]
  },
  {
   "cell_type": "markdown",
   "metadata": {},
   "source": [
    "<h1>Here we will replace the values in the attributes and decide what to loop over.</h1>"
   ]
  },
  {
   "cell_type": "markdown",
   "metadata": {},
   "source": [
    "<font color=red>**ACTION REQUIRED**</font> <br>\n",
    "<font color=blue>**Enter the text you would like to replace in the attributes above in the variable 'replace_string'** <br>\n",
    "**AND enter the list of values you'd like to replace the search string with in the variable 'loop_values'.**<br>\n",
    "The next cell will search for that string and replace it with a {} so it can be filled in later.<br>\n",
    "Then we will loop over the values in 'loop_values' and replace the {} in the attributes with the values.</font>"
   ]
  },
  {
   "cell_type": "code",
   "execution_count": 27,
   "metadata": {},
   "outputs": [
    {
     "name": "stdout",
     "output_type": "stream",
     "text": [
      "Replace String: 2017\nLoop values: [1995 1996 1997 1998 1999 2000 2001 2002 2003 2004 2005 2006 2007 2008\n 2009 2010 2011 2012 2013 2014 2015 2016]\n"
     ]
    }
   ],
   "source": [
    "#Replace this value with the string you'd like to replace in the attributes\n",
    "replace_string = '2017' #e.g., 1990\n",
    "\n",
    "#Enter the list you want to loop over to create new layers\n",
    "loop_values = np.arange(1995,2017)\n",
    "\n",
    "#Print out the values so you can double check them\n",
    "print('Replace String: {}'.format(replace_string))\n",
    "print('Loop values: {}'.format(loop_values))"
   ]
  },
  {
   "cell_type": "markdown",
   "metadata": {},
   "source": [
    "<font color=blue>**Above are the values you entered. Double check that they look okay.**</font>"
   ]
  },
  {
   "cell_type": "markdown",
   "metadata": {},
   "source": [
    "<font color=blue>**Next we will print out the attributes after replacing the 'replace_string' with '{}'**</font>"
   ]
  },
  {
   "cell_type": "code",
   "execution_count": 28,
   "metadata": {},
   "outputs": [
    {
     "name": "stdout",
     "output_type": "stream",
     "text": [
      "Name: \n{} Vulnerability Score \n\nDescription: \nA score that indicates propensity or predisposition of human societies to be negatively impacted by climate hazards. Values shown represent the year {}. \n\nSQL Statement: \nSELECT wri.cartodb_id, ST_Transform(wri.the_geom, 3857) AS the_geom_webmercator, wri.name, data.country, data.year, data.gain, data.vulnerability, data.readiness FROM cli_029a_vulnerability_to_cc data LEFT OUTER JOIN wri_countries_a wri ON wri.name ILIKE TRIM(data.country) WHERE data.vulnerability IS NOT NULL AND wri.iso_a3 IS NOT NULL AND data.year = {} UNION SELECT wri.cartodb_id, ST_Transform(wri.the_geom, 3857) AS the_geom_webmercator, wri.name, data.country, data.year, data.gain, data.vulnerability, data.readiness FROM cli_029a_vulnerability_to_cc  data INNER JOIN rw_aliasing_countries aliasing ON TRIM(data.country) ILIKE aliasing.alias INNER JOIN wri_countries_a wri ON wri.iso_a3 = aliasing.iso WHERE data.vulnerability IS NOT NULL AND data.year = {} \n\nOrder Value: \n{} \n\nTimeline Label: \n{} \n\nInteraction Config: \n{'output': [{'column': 'country', 'format': None, 'prefix': '', 'property': 'Country', 'suffix': ''}, {'column': 'gain', 'format': None, 'prefix': '', 'property': 'GAIN Score', 'suffix': ''}, {'column': 'vulnerability', 'format': None, 'prefix': '', 'property': 'Vulnerability Score', 'suffix': ''}, {'column': 'readiness', 'format': None, 'prefix': '', 'property': 'Readiness Score', 'suffix': ''}, {'column': 'year', 'format': None, 'prefix': '', 'property': 'Year', 'suffix': ''}, {'column': 'cartodb_id', 'format': None, 'prefix': '', 'property': 'Area ID', 'suffix': ''}]} \n\n"
     ]
    }
   ],
   "source": [
    "name_convention = name.replace(replace_string,'{}')\n",
    "description_convention = description.replace(replace_string,'{}')\n",
    "sql_convention = sql.replace(replace_string,'{}')\n",
    "order_convention = order.replace(replace_string,'{}')\n",
    "timeLineLabel_convention = timeLineLabel.replace(replace_string,'{}')\n",
    "for i, dictionary in enumerate(interactionConfig.get('output')):\n",
    "    for key,value in dictionary.items():\n",
    "        if value != None:\n",
    "            if replace_string in value:\n",
    "                print(key)\n",
    "                print(i)\n",
    "                print(interactionConfig.get('output')[i])\n",
    "                interactionConfig.get('output')[i][key] = value.replace(replace_string,'{}')\n",
    "print('Name: \\n{} \\n'.format(name_convention))\n",
    "print('Description: \\n{} \\n'.format(description_convention))\n",
    "print('SQL Statement: \\n{} \\n'.format(sql_convention))\n",
    "print('Order Value: \\n{} \\n'.format(order_convention))\n",
    "print('Timeline Label: \\n{} \\n'.format(timeLineLabel_convention))\n",
    "print('Interaction Config: \\n{} \\n'.format(interactionConfig))"
   ]
  },
  {
   "cell_type": "markdown",
   "metadata": {},
   "source": [
    "<font color=blue>**Check out the values above, do they look okay? The places with a '{}' will be replaced when we loop over the values in 'loop_values'**</font>"
   ]
  },
  {
   "cell_type": "code",
   "execution_count": 28,
   "metadata": {},
   "outputs": [],
   "source": [
    "#If any of the variables above are not okay, replace it in this cell"
   ]
  },
  {
   "cell_type": "markdown",
   "metadata": {},
   "source": [
    "<h1>Now we will loop through and create new layers!</h1>"
   ]
  },
  {
   "cell_type": "markdown",
   "metadata": {},
   "source": [
    "<font color=blue>**The cell below loops through the values in 'loop_values' and replaces all of the {} with the value in each of the attributes. It will skip over a layer if a layer with that name already exists. When running the cell bellow, it sometimes returns an error that it times out, just run the cell again.**</font>"
   ]
  },
  {
   "cell_type": "code",
   "execution_count": 31,
   "metadata": {
    "scrolled": true
   },
   "outputs": [
    {
     "name": "stdout",
     "output_type": "stream",
     "text": [
      "Layer \"1995 Vulnerability Score\" already exists!\nLayer \"1996 Vulnerability Score\" already exists!\nLayer \"1997 Vulnerability Score\" already exists!\nLayer \"1998 Vulnerability Score\" already exists!\nLayer \"1999 Vulnerability Score\" already exists!\nLayer \"2000 Vulnerability Score\" already exists!\nLayer \"2001 Vulnerability Score\" already exists!\nLayer \"2002 Vulnerability Score\" already exists!\nLayer \"2003 Vulnerability Score\" already exists!\nLayer \"2004 Vulnerability Score\" already exists!\nLayer \"2005 Vulnerability Score\" already exists!\nLayer \"2006 Vulnerability Score\" already exists!\nLayer \"2007 Vulnerability Score\" already exists!\nLayer \"2008 Vulnerability Score\" already exists!\nLayer \"2009 Vulnerability Score\" already exists!\nLayer \"2010 Vulnerability Score\" already exists!\nLayer \"2011 Vulnerability Score\" already exists!\nLayer \"2012 Vulnerability Score\" already exists!\nLayer \"2013 Vulnerability Score\" already exists!\nLayer \"2014 Vulnerability Score\" already exists!\nLayer \"2015 Vulnerability Score\" already exists!\nLayer \"2016 Vulnerability Score\" already exists!\n"
     ]
    }
   ],
   "source": [
    "#SOMETIMES WE GET AN ERROR THAT IT TIMES OUT, JUST RUN THE CELL AGAIN\n",
    "\n",
    "#Load in dataset again to have the most updated version\n",
    "dataset = lmi.Dataset(dataset_id)\n",
    "\n",
    "#Get the names of all the layers\n",
    "layers = dataset.layers\n",
    "layer_names = list(map(lambda x: x.attributes['name'], layers))\n",
    "\n",
    "#Loop over loop values\n",
    "for new_value in loop_values:\n",
    "    #Get layer name\n",
    "    new_layer_name = name_convention.replace('{}',str(new_value))  \n",
    "    \n",
    "    #Check that layer does not already exist\n",
    "    if new_layer_name not in layer_names:\n",
    "        \n",
    "        #If it doesn't, set the new values\n",
    "        new_description = description_convention.replace('{}',str(new_value))\n",
    "        new_sql = sql_convention.replace('{}',str(new_value))\n",
    "        new_timeline_label = timeLineLabel_convention.replace('{}',str(new_value))\n",
    "        try: \n",
    "            new_order = int(order_convention.replace('{}',str(new_value)))\n",
    "        except:\n",
    "            new_order = int(order)\n",
    "        \n",
    "        #Print those bad boys out\n",
    "        print('NEW LAYER NAME: \"{}\"'.format(new_layer_name))\n",
    "        print('New DESCRIPTION: \"{}\"'.format(new_description))\n",
    "        print('NEW SQL: \"{}\"'.format(new_sql))\n",
    "        print('NEW TIMELINE LABEL: \"{}\"'.format(new_timeline_label))\n",
    "        print('NEW ORDER VALUE: \"{}\"'.format(new_order))\n",
    "        \n",
    "        #Clone layer\n",
    "        clone_attributes = {\n",
    "            'name': new_layer_name,\n",
    "            'description': new_description\n",
    "            }\n",
    "        new_layer = layer_to_clone.clone(token=API_TOKEN, env='production', layer_params=clone_attributes, \n",
    "                     target_dataset_id=dataset_id)\n",
    "        #Replace layer attributes with new values\n",
    "        appConfig = new_layer.attributes['layerConfig']\n",
    "        appConfig['body']['layers'][0]['options']['sql'] = new_sql\n",
    "        appConfig['order'] = new_order\n",
    "        appConfig['timelineLabel'] = new_timeline_label\n",
    "        payload = {\n",
    "        'layerConfig': {\n",
    "            **appConfig\n",
    "            }\n",
    "        }\n",
    "        new_layer = new_layer.update(update_params=payload, token=API_TOKEN)\n",
    "        \n",
    "        #Replace interaction config with new values\n",
    "        interactionConfig = new_layer.attributes['interactionConfig']\n",
    "        for i,element in enumerate(interactionConfig['output']):\n",
    "            if '{}' in element.get('property'):\n",
    "                interactionConfig['output'][i]['property'] = interactionConfig['output'][i]['property'].replace('{}',str(new_value))\n",
    "        payload = {\n",
    "        'interactionConfig': {\n",
    "            **interactionConfig\n",
    "            }\n",
    "        }\n",
    "        new_layer = new_layer.update(update_params=payload, token=API_TOKEN)\n",
    "        \n",
    "        #Replace layer name and description\n",
    "        payload = {\n",
    "            'name': new_layer_name,\n",
    "            'description': new_description\n",
    "        }\n",
    "        new_layer = new_layer.update(update_params=payload, token=API_TOKEN)\n",
    "        print(new_layer)\n",
    "        print('\\n')\n",
    "        \n",
    "    else:\n",
    "        print('Layer \"{}\" already exists!'.format(new_layer_name))\n",
    "        \n",
    "        \n",
    "        "
   ]
  },
  {
   "cell_type": "code",
   "execution_count": null,
   "metadata": {},
   "outputs": [],
   "source": []
  },
  {
   "cell_type": "code",
   "execution_count": null,
   "metadata": {},
   "outputs": [],
   "source": []
  },
  {
   "cell_type": "code",
   "execution_count": null,
   "metadata": {},
   "outputs": [],
   "source": []
  },
  {
   "cell_type": "code",
   "execution_count": null,
   "metadata": {},
   "outputs": [],
   "source": []
  },
  {
   "cell_type": "code",
   "execution_count": null,
   "metadata": {},
   "outputs": [],
   "source": []
  },
  {
   "cell_type": "code",
   "execution_count": null,
   "metadata": {},
   "outputs": [],
   "source": [
    "#Use this section to delete layers if they are stuck in staging or you want to bulk delete layers\n",
    "\n",
    "# #UNCOMMENT THIS IF YOU WANT TO DELETE A SPECIFIC LAYER\n",
    "# #Select layer by layer id:\n",
    "# layer = lmi.Layer('c3075c5a-5567-4b09-bc0d-96ed1673f8b6')\n",
    "# layer.delete(token=API_TOKEN)\n",
    "\n",
    "# #UNCOMMENT THIS SECTION IF YOU WANT TO DELETE ALL LAYERS EXCEPT THE FIRST ONE\n",
    "# #Enter dataset id (the long one)\n",
    "# dataset_id = 'e32bdaba-5a72-487c-b640-668adaea2976' #THIS NEEDS TO BE THE LONG STRING ONE\n",
    "# dataset = lmi.Dataset(dataset_id) \n",
    "# for i, layer in enumerate(dataset.layers):\n",
    "#     if i>0:\n",
    "#         display(layer)\n",
    "#         layer.delete(token=API_TOKEN)"
   ]
  },
  {
   "cell_type": "code",
   "execution_count": null,
   "metadata": {},
   "outputs": [],
   "source": []
  }
 ],
 "metadata": {
  "kernelspec": {
   "display_name": "Python 3",
   "language": "python",
   "name": "python3"
  },
  "language_info": {
   "codemirror_mode": {
    "name": "ipython",
    "version": 3
   },
   "file_extension": ".py",
   "mimetype": "text/x-python",
   "name": "python",
   "nbconvert_exporter": "python",
   "pygments_lexer": "ipython3",
   "version": "3.6.8"
  }
 },
 "nbformat": 4,
 "nbformat_minor": 2
}
