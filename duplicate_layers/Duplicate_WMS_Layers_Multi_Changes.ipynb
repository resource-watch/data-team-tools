{
 "cells": [
  {
   "cell_type": "markdown",
   "metadata": {},
   "source": [
    "<h1>Welcome to the Resource Watch Duplicate WMS Layers Tool!</h1>"
   ]
  },
  {
   "cell_type": "code",
   "execution_count": null,
   "metadata": {},
   "outputs": [],
   "source": [
    "#Import necessary layers\n",
    "#!pip install LMIPy\n",
    "import LMIPy as lmi\n",
    "import os\n",
    "import json\n",
    "import geopandas as gpd\n",
    "from IPython.display import display\n",
    "from pprint import pprint\n",
    "from datetime import datetime\n",
    "import numpy as np\n",
    "import json\n",
    "import pandas as pd\n",
    "import copy\n",
    "import dotenv\n",
    "#insert the location of your .env file here:\n",
    "dotenv.load_dotenv() "
   ]
  },
  {
   "cell_type": "markdown",
   "metadata": {},
   "source": [
    "<font color=red>**ACTION REQUIRED** <br>\n",
    "<font color=lightblue>**Enter your API Token Below**</font>"
   ]
  },
  {
   "cell_type": "code",
   "execution_count": null,
   "metadata": {},
   "outputs": [],
   "source": [
    "#API token needed to make changes\n",
    "API_TOKEN = os.getenv('RW_API_KEY')"
   ]
  },
  {
   "cell_type": "markdown",
   "metadata": {},
   "source": [
    "<font color=red>**ACTION REQUIRED** <br>\n",
    "<font color=lightblue>**Enter your dataset ID below** <br>\n",
    "The dataset will be printed out below, then the first layer in the list of layers, followed by the number of layers in the dataset. We will duplicate the first layer.</font>"
   ]
  },
  {
   "cell_type": "code",
   "execution_count": null,
   "metadata": {
    "scrolled": true
   },
   "outputs": [],
   "source": [
    "#Select Dataset and Layer to Clone, here we just chose the first layer\n",
    "dataset_id = '' #NEEDS TO BE THE LONG ONE LIKE 6cfd6255-609e-4922-8709-5aaad0db9fae\n",
    "dataset = lmi.Dataset(dataset_id) #select the dataset by changing the ID\n",
    "long_dataset_id = dataset.id\n",
    "\n",
    "print('Dataset selected is below: ')\n",
    "display(dataset)\n",
    "# print(dataset.layers)\n",
    "layer_to_clone = dataset.layers[0]   #Chose the first layer\n",
    "\n",
    "print('First layer is below:')\n",
    "display(layer_to_clone)\n",
    "\n",
    "print(\"Number of layers in dataset: {}\".format(len(dataset.layers)))\n"
   ]
  },
  {
   "cell_type": "markdown",
   "metadata": {},
   "source": [
    "__________________________________________________________________________________________________________________\n",
    "<font color=lightblue>**Now we will get the attributes that need to change**<br>\n",
    "This includes the layer name, description, layerConfig, order, timeline label, url, and tiles <br>\n",
    "We'll first print them out so you can see</font>"
   ]
  },
  {
   "cell_type": "code",
   "execution_count": null,
   "metadata": {},
   "outputs": [],
   "source": [
    "#Gathering the right attributes that need to change\n",
    "name = layer_to_clone.attributes['name']\n",
    "description = layer_to_clone.attributes['description']\n",
    "layerConfig = layer_to_clone.attributes['layerConfig']\n",
    "order = str(layerConfig['order'])\n",
    "timeLineLabel = layerConfig['timelineLabel']\n",
    "url = layerConfig['url']\n",
    "tiles = layerConfig['source']['tiles']\n",
    "\n",
    "#Print them out\n",
    "print('Name: \\n{} \\n'.format(name))\n",
    "print('Description: \\n{} \\n'.format(description))\n",
    "print('URL: \\n{} \\n'.format(url))\n",
    "print('Tile: \\n{} \\n'.format(tiles))\n",
    "print('Order Value: \\n{} \\n'.format(order))\n",
    "print('Timeline Label: \\n{} \\n'.format(timeLineLabel))\n"
   ]
  },
  {
   "cell_type": "markdown",
   "metadata": {},
   "source": [
    "<h1>Here we will replace the values in the attributes and decide what to loop over.</h1>"
   ]
  },
  {
   "cell_type": "markdown",
   "metadata": {},
   "source": [
    "<font color=red>**ACTION REQUIRED**</font> <br>\n",
    "<font color=lightblue>**Enter the text you would like to replace in the attributes above in the variable 'replace_strings'** <br>\n",
    "**AND enter the list of values you'd like to replace the search string with in the variable 'loop_values'.**<br>\n",
    "The next cell will search for that string and replace it with a {} so it can be filled in later.<br>\n",
    "Then we will loop over the values in 'loop_values' and replace the {} in the attributes with the values.</font>"
   ]
  },
  {
   "cell_type": "code",
   "execution_count": null,
   "metadata": {},
   "outputs": [],
   "source": [
    "loop_values = pd.read_csv('loop_values.csv')\n",
    "# Replace this value with the string you'd like to replace in the attributes\n",
    "# replace_string = '45' #e.g., 1990\n",
    "replace_strings = loop_values.columns.to_list()\n",
    "\n",
    "# Enter the list you want to loop over to create new layers\n",
    "# loop_values = np.arange(1951,2021)\n",
    "\n",
    "#Print out the values so you can double check them\n",
    "print('Replace String:\\n{}'.format(replace_strings))\n",
    "print('Loop Values:\\n{}'.format(loop_values.to_string(header=False)))"
   ]
  },
  {
   "cell_type": "markdown",
   "metadata": {},
   "source": [
    "<font color=lightblue>**Above are the values you entered. Double check that they look okay.**</font>"
   ]
  },
  {
   "cell_type": "markdown",
   "metadata": {},
   "source": [
    "<font color=lightblue>**Next we will print out the attributes after replacing the 'replace_strings' with '{}'**</font>"
   ]
  },
  {
   "cell_type": "code",
   "execution_count": null,
   "metadata": {},
   "outputs": [],
   "source": [
    "name_convention = name\n",
    "description_convention = description\n",
    "order_convention = order\n",
    "timeLineLabel_convention = timeLineLabel\n",
    "tile_convention = tiles\n",
    "url_convention = url \n",
    "\n",
    "for replace_string in replace_strings:\n",
    "    name_convention = name_convention.replace(replace_string,'{}')\n",
    "    description_convention = description_convention.replace(replace_string,'{}')\n",
    "    order_convention = order_convention.replace(replace_string,'{}')\n",
    "    url_convention = url_convention.replace(replace_string,'{}')\n",
    "    tile_convention = str(tile_convention).replace(replace_string,'{}')\n",
    "    timeLineLabel_convention = timeLineLabel_convention.replace(replace_string,'{}')\n",
    "\n",
    "print('Name: \\n{} \\n'.format(name_convention))\n",
    "print('Description: \\n{} \\n'.format(description_convention))\n",
    "print('URL: \\n{} \\n'.format(url_convention))\n",
    "print('Tiles: \\n{} \\n'.format(tile_convention))\n",
    "print('Order Value: \\n{} \\n'.format(order_convention))\n",
    "print('Timeline Label: \\n{} \\n'.format(timeLineLabel_convention))\n"
   ]
  },
  {
   "cell_type": "markdown",
   "metadata": {},
   "source": [
    "<font color=lightblue>**Check out the values above, do they look okay? The places with a '{}' will be replaced when we loop over the values in 'loop_values'**</font>"
   ]
  },
  {
   "cell_type": "code",
   "execution_count": null,
   "metadata": {},
   "outputs": [],
   "source": [
    "#If any of the variables above are not okay, replace it in this cell"
   ]
  },
  {
   "cell_type": "markdown",
   "metadata": {},
   "source": [
    "<h1>Now we will loop through and create new layers!</h1>"
   ]
  },
  {
   "cell_type": "markdown",
   "metadata": {},
   "source": [
    "<font color=lightblue>**The cell below loops through the values in 'loop_values' and replaces all of the {} with the value in each of the attributes. It will skip over a layer if a layer with that name already exists. When running the cell bellow, it sometimes returns an error that it times out, just run the cell again.**</font>"
   ]
  },
  {
   "cell_type": "code",
   "execution_count": null,
   "metadata": {
    "scrolled": true
   },
   "outputs": [],
   "source": [
    "# SOMETIMES WE GET AN ERROR THAT IT TIMES OUT, JUST RUN THE CELL AGAIN\n",
    "\n",
    "# Load in dataset again to have the most updated version\n",
    "dataset = lmi.Dataset(dataset_id)\n",
    "\n",
    "# Get the names of all the layers\n",
    "layers = dataset.layers\n",
    "layer_names = list(map(lambda x: x.attributes['name'], layers))\n",
    "\n",
    "# Loop over loop values\n",
    "for index, new_values in loop_values.iterrows():\n",
    "    new_layer_name = name\n",
    "    new_description = description\n",
    "    new_url = url\n",
    "    new_tiles = tiles\n",
    "    new_order = order\n",
    "    new_timelineLabel = timeLineLabel\n",
    "\n",
    "    for replace_string in replace_strings:\n",
    "\n",
    "        # Get layer name\n",
    "        new_layer_name = new_layer_name.replace(replace_string, str(new_values[replace_string]))  \n",
    "        \n",
    "        new_description = new_description.replace(replace_string, str(new_values[replace_string]))\n",
    "        new_url = new_url.replace(replace_string, str(new_values[replace_string]))\n",
    "        new_tiles = str(new_tiles).replace(replace_string, str(new_values[replace_string]))\n",
    "        new_timelineLabel = new_timelineLabel.replace(replace_string, str(new_values[replace_string]))\n",
    "        new_order = int(str(new_order).replace(replace_string, str(new_values[replace_string])))\n",
    "        \n",
    "    # Check that layer does not already exist\n",
    "    if new_layer_name not in layer_names:    \n",
    "        # Print those bad boys out\n",
    "        print('NEW LAYER NAME: \"{}\"'.format(new_layer_name))\n",
    "        print('New DESCRIPTION: \"{}\"'.format(new_description))\n",
    "        print('NEW URL: \"{}\"'.format(new_url))\n",
    "        print('NEW TILES: \"{}\"'.format(new_tiles))\n",
    "        print('NEW TIMELINE LABEL: \"{}\"'.format(new_timelineLabel))\n",
    "        print('NEW ORDER VALUE: \"{}\"'.format(new_order))\n",
    "        \n",
    "        #Clone layer\n",
    "        clone_attributes = {\n",
    "            'name': new_layer_name,\n",
    "            'description': new_description\n",
    "            }\n",
    "        new_layer = layer_to_clone.clone(token=API_TOKEN, env='production', layer_params=clone_attributes, target_dataset_id=dataset_id)\n",
    "        #Replace layer attributes with new values\n",
    "        layerConfig = new_layer.attributes['layerConfig']\n",
    "        layerConfig['url'] = new_url\n",
    "        layerConfig['source']['tiles'] = new_tiles\n",
    "        layerConfig['order'] = new_order\n",
    "        layerConfig['timelineLabel'] = new_timelineLabel\n",
    "        payload = {\n",
    "        'layerConfig': {\n",
    "            **layerConfig\n",
    "            }\n",
    "        }\n",
    "        new_layer = new_layer.update(update_params=payload, token=API_TOKEN)\n",
    "            \n",
    "        # Replace layer name and description\n",
    "        payload = {\n",
    "            'name': new_layer_name,\n",
    "            'description': new_description\n",
    "        }\n",
    "        new_layer = new_layer.update(update_params=payload, token=API_TOKEN)\n",
    "        print(new_layer)\n",
    "        print('\\n')\n",
    "            \n",
    "    else:\n",
    "        print('Layer \"{}\" already exists!'.format(new_layer_name))\n",
    "        "
   ]
  },
  {
   "cell_type": "code",
   "execution_count": null,
   "metadata": {},
   "outputs": [],
   "source": []
  },
  {
   "cell_type": "code",
   "execution_count": null,
   "metadata": {},
   "outputs": [],
   "source": [
    "# Use this section to delete layers if they are stuck in staging or you want to bulk delete layers\n",
    "\n",
    "# # UNCOMMENT THIS IF YOU WANT TO DELETE A SPECIFIC LAYER\n",
    "# # Select layer by layer id:\n",
    "# layer = lmi.Layer('c3075c5a-5567-4b09-bc0d-96ed1673f8b6')\n",
    "# layer.delete(token=API_TOKEN)\n",
    "\n",
    "# # UNCOMMENT THIS SECTION IF YOU WANT TO DELETE ALL LAYERS EXCEPT THE FIRST ONE\n",
    "# # Enter dataset id (the long one)\n",
    "# dataset_id = 'd17e6978-0848-4a13-ba05-6f4af04ac7d1' #THIS NEEDS TO BE THE LONG STRING ONE\n",
    "# dataset = lmi.Dataset(dataset_id) \n",
    "# for i, layer in enumerate(dataset.layers):\n",
    "#     if i<len(dataset.layers)-1:\n",
    "#         display(layer)\n",
    "#         layer.delete(token=API_TOKEN)"
   ]
  }
 ],
 "metadata": {
  "interpreter": {
   "hash": "d4baea42babd2624e7551a152a69c8339ae58b846d4039ed2f0d7a1844c89be7"
  },
  "kernelspec": {
   "display_name": "Python 3 (ipykernel)",
   "language": "python",
   "name": "python3"
  },
  "language_info": {
   "codemirror_mode": {
    "name": "ipython",
    "version": 3
   },
   "file_extension": ".py",
   "mimetype": "text/x-python",
   "name": "python",
   "nbconvert_exporter": "python",
   "pygments_lexer": "ipython3",
   "version": "3.7.12"
  }
 },
 "nbformat": 4,
 "nbformat_minor": 2
}
